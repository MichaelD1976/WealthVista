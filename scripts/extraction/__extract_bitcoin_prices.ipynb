{
 "cells": [
  {
   "cell_type": "markdown",
   "id": "bdd8fbe7",
   "metadata": {},
   "source": [
    "#### Access Bitcoin Price\n",
    "\n",
    "### NOT IN USE - y-finance data does not start until much later than 2010\n"
   ]
  },
  {
   "cell_type": "code",
   "execution_count": 1,
   "id": "901e8de9",
   "metadata": {},
   "outputs": [],
   "source": [
    "import yfinance as yf\n",
    "import pandas as pd\n",
    "from pathlib import Path"
   ]
  },
  {
   "cell_type": "code",
   "execution_count": 2,
   "id": "bf1e163f",
   "metadata": {},
   "outputs": [],
   "source": [
    "# Define the date range\n",
    "start_date = \"2010-01-01\""
   ]
  },
  {
   "cell_type": "code",
   "execution_count": null,
   "id": "5aed83cb",
   "metadata": {},
   "outputs": [],
   "source": [
    "# Get the root of your project \n",
    "project_root = Path.cwd().parents[1] # navigate 2 levels up in directory\n",
    "\n",
    "# Construct the full path to data/raw\n",
    "data_dir_to_save = project_root / 'data' / 'raw'\n",
    "data_dir_to_save.mkdir(parents=True, exist_ok=True)  # creates dirs if needed\n",
    "\n",
    "SAVE_FILE_PATH = data_dir_to_save / 'btc_prices_raw.csv'\n"
   ]
  },
  {
   "cell_type": "code",
   "execution_count": 15,
   "id": "782cd3a5",
   "metadata": {},
   "outputs": [
    {
     "name": "stderr",
     "output_type": "stream",
     "text": [
      "C:\\Users\\MikeD\\AppData\\Local\\Temp\\ipykernel_14756\\930563648.py:2: FutureWarning: YF.download() has changed argument auto_adjust default to True\n",
      "  df_btc = yf.download(\"BTC-USD\", start=start_date, interval=\"1mo\", group_by=\"ticker\")\n",
      "[*********************100%***********************]  1 of 1 completed\n"
     ]
    }
   ],
   "source": [
    "# Download monthly S&P 500 prices\n",
    "df_btc = yf.download(\"BTC-USD\", start=start_date, interval=\"1mo\", group_by=\"ticker\")"
   ]
  },
  {
   "cell_type": "code",
   "execution_count": 16,
   "id": "30cb7268",
   "metadata": {},
   "outputs": [
    {
     "data": {
      "text/html": [
       "<div>\n",
       "<style scoped>\n",
       "    .dataframe tbody tr th:only-of-type {\n",
       "        vertical-align: middle;\n",
       "    }\n",
       "\n",
       "    .dataframe tbody tr th {\n",
       "        vertical-align: top;\n",
       "    }\n",
       "\n",
       "    .dataframe thead tr th {\n",
       "        text-align: left;\n",
       "    }\n",
       "\n",
       "    .dataframe thead tr:last-of-type th {\n",
       "        text-align: right;\n",
       "    }\n",
       "</style>\n",
       "<table border=\"1\" class=\"dataframe\">\n",
       "  <thead>\n",
       "    <tr>\n",
       "      <th>Ticker</th>\n",
       "      <th colspan=\"5\" halign=\"left\">BTC-USD</th>\n",
       "    </tr>\n",
       "    <tr>\n",
       "      <th>Price</th>\n",
       "      <th>Open</th>\n",
       "      <th>High</th>\n",
       "      <th>Low</th>\n",
       "      <th>Close</th>\n",
       "      <th>Volume</th>\n",
       "    </tr>\n",
       "    <tr>\n",
       "      <th>Date</th>\n",
       "      <th></th>\n",
       "      <th></th>\n",
       "      <th></th>\n",
       "      <th></th>\n",
       "      <th></th>\n",
       "    </tr>\n",
       "  </thead>\n",
       "  <tbody>\n",
       "    <tr>\n",
       "      <th>2014-09-01</th>\n",
       "      <td>465.864014</td>\n",
       "      <td>468.174011</td>\n",
       "      <td>372.239990</td>\n",
       "      <td>386.944000</td>\n",
       "      <td>410881000</td>\n",
       "    </tr>\n",
       "    <tr>\n",
       "      <th>2014-10-01</th>\n",
       "      <td>387.427002</td>\n",
       "      <td>411.697998</td>\n",
       "      <td>289.295990</td>\n",
       "      <td>338.321014</td>\n",
       "      <td>902994450</td>\n",
       "    </tr>\n",
       "    <tr>\n",
       "      <th>2014-11-01</th>\n",
       "      <td>338.649994</td>\n",
       "      <td>457.092987</td>\n",
       "      <td>320.626007</td>\n",
       "      <td>378.046997</td>\n",
       "      <td>659733360</td>\n",
       "    </tr>\n",
       "    <tr>\n",
       "      <th>2014-12-01</th>\n",
       "      <td>378.248993</td>\n",
       "      <td>384.037994</td>\n",
       "      <td>304.231995</td>\n",
       "      <td>320.192993</td>\n",
       "      <td>553102310</td>\n",
       "    </tr>\n",
       "    <tr>\n",
       "      <th>2015-01-01</th>\n",
       "      <td>320.434998</td>\n",
       "      <td>320.434998</td>\n",
       "      <td>171.509995</td>\n",
       "      <td>217.464005</td>\n",
       "      <td>1098811912</td>\n",
       "    </tr>\n",
       "  </tbody>\n",
       "</table>\n",
       "</div>"
      ],
      "text/plain": [
       "Ticker         BTC-USD                                                \n",
       "Price             Open        High         Low       Close      Volume\n",
       "Date                                                                  \n",
       "2014-09-01  465.864014  468.174011  372.239990  386.944000   410881000\n",
       "2014-10-01  387.427002  411.697998  289.295990  338.321014   902994450\n",
       "2014-11-01  338.649994  457.092987  320.626007  378.046997   659733360\n",
       "2014-12-01  378.248993  384.037994  304.231995  320.192993   553102310\n",
       "2015-01-01  320.434998  320.434998  171.509995  217.464005  1098811912"
      ]
     },
     "execution_count": 16,
     "metadata": {},
     "output_type": "execute_result"
    }
   ],
   "source": [
    "# Download monthly gold prices since 2010-01-01\n",
    "df_btc.head()"
   ]
  },
  {
   "cell_type": "code",
   "execution_count": 17,
   "id": "d146acde",
   "metadata": {},
   "outputs": [
    {
     "data": {
      "text/plain": [
       "MultiIndex([('BTC-USD',   'Open'),\n",
       "            ('BTC-USD',   'High'),\n",
       "            ('BTC-USD',    'Low'),\n",
       "            ('BTC-USD',  'Close'),\n",
       "            ('BTC-USD', 'Volume')],\n",
       "           names=['Ticker', 'Price'])"
      ]
     },
     "execution_count": 17,
     "metadata": {},
     "output_type": "execute_result"
    }
   ],
   "source": [
    "df_btc.columns"
   ]
  },
  {
   "cell_type": "code",
   "execution_count": 18,
   "id": "fffd5cdb",
   "metadata": {},
   "outputs": [],
   "source": [
    "df_btc.columns = df_btc.columns.droplevel(0)  # drops 'Ticker' level"
   ]
  },
  {
   "cell_type": "code",
   "execution_count": 19,
   "id": "8a4d4b43",
   "metadata": {},
   "outputs": [
    {
     "data": {
      "text/html": [
       "<div>\n",
       "<style scoped>\n",
       "    .dataframe tbody tr th:only-of-type {\n",
       "        vertical-align: middle;\n",
       "    }\n",
       "\n",
       "    .dataframe tbody tr th {\n",
       "        vertical-align: top;\n",
       "    }\n",
       "\n",
       "    .dataframe thead th {\n",
       "        text-align: right;\n",
       "    }\n",
       "</style>\n",
       "<table border=\"1\" class=\"dataframe\">\n",
       "  <thead>\n",
       "    <tr style=\"text-align: right;\">\n",
       "      <th>Price</th>\n",
       "      <th>Open</th>\n",
       "      <th>High</th>\n",
       "      <th>Low</th>\n",
       "      <th>Close</th>\n",
       "      <th>Volume</th>\n",
       "    </tr>\n",
       "    <tr>\n",
       "      <th>Date</th>\n",
       "      <th></th>\n",
       "      <th></th>\n",
       "      <th></th>\n",
       "      <th></th>\n",
       "      <th></th>\n",
       "    </tr>\n",
       "  </thead>\n",
       "  <tbody>\n",
       "    <tr>\n",
       "      <th>2014-09-01</th>\n",
       "      <td>465.864014</td>\n",
       "      <td>468.174011</td>\n",
       "      <td>372.239990</td>\n",
       "      <td>386.944000</td>\n",
       "      <td>410881000</td>\n",
       "    </tr>\n",
       "    <tr>\n",
       "      <th>2014-10-01</th>\n",
       "      <td>387.427002</td>\n",
       "      <td>411.697998</td>\n",
       "      <td>289.295990</td>\n",
       "      <td>338.321014</td>\n",
       "      <td>902994450</td>\n",
       "    </tr>\n",
       "    <tr>\n",
       "      <th>2014-11-01</th>\n",
       "      <td>338.649994</td>\n",
       "      <td>457.092987</td>\n",
       "      <td>320.626007</td>\n",
       "      <td>378.046997</td>\n",
       "      <td>659733360</td>\n",
       "    </tr>\n",
       "    <tr>\n",
       "      <th>2014-12-01</th>\n",
       "      <td>378.248993</td>\n",
       "      <td>384.037994</td>\n",
       "      <td>304.231995</td>\n",
       "      <td>320.192993</td>\n",
       "      <td>553102310</td>\n",
       "    </tr>\n",
       "    <tr>\n",
       "      <th>2015-01-01</th>\n",
       "      <td>320.434998</td>\n",
       "      <td>320.434998</td>\n",
       "      <td>171.509995</td>\n",
       "      <td>217.464005</td>\n",
       "      <td>1098811912</td>\n",
       "    </tr>\n",
       "  </tbody>\n",
       "</table>\n",
       "</div>"
      ],
      "text/plain": [
       "Price             Open        High         Low       Close      Volume\n",
       "Date                                                                  \n",
       "2014-09-01  465.864014  468.174011  372.239990  386.944000   410881000\n",
       "2014-10-01  387.427002  411.697998  289.295990  338.321014   902994450\n",
       "2014-11-01  338.649994  457.092987  320.626007  378.046997   659733360\n",
       "2014-12-01  378.248993  384.037994  304.231995  320.192993   553102310\n",
       "2015-01-01  320.434998  320.434998  171.509995  217.464005  1098811912"
      ]
     },
     "execution_count": 19,
     "metadata": {},
     "output_type": "execute_result"
    }
   ],
   "source": [
    "df_btc.head()"
   ]
  },
  {
   "cell_type": "code",
   "execution_count": 20,
   "id": "c4fec342",
   "metadata": {},
   "outputs": [],
   "source": [
    "# If multi-index columns, extract Close price\n",
    "if isinstance(df_btc.columns, pd.MultiIndex):\n",
    "    df_btc = df_btc['Close']['GLD']\n",
    "else:\n",
    "    df_btc = df_btc['Close']"
   ]
  },
  {
   "cell_type": "code",
   "execution_count": 21,
   "id": "4a8a46e2",
   "metadata": {},
   "outputs": [
    {
     "name": "stdout",
     "output_type": "stream",
     "text": [
      "<class 'pandas.core.series.Series'>\n",
      "DatetimeIndex: 130 entries, 2014-09-01 to 2025-06-01\n",
      "Series name: Close\n",
      "Non-Null Count  Dtype  \n",
      "--------------  -----  \n",
      "130 non-null    float64\n",
      "dtypes: float64(1)\n",
      "memory usage: 2.0 KB\n"
     ]
    }
   ],
   "source": [
    "df_btc.info()\n"
   ]
  },
  {
   "cell_type": "code",
   "execution_count": 22,
   "id": "34f22194",
   "metadata": {},
   "outputs": [],
   "source": [
    "# Convert to DataFrame, reset index\n",
    "# Convert to DataFrame, reset index\n",
    "df_btc = df_btc.to_frame(name='BTC_$').reset_index()"
   ]
  },
  {
   "cell_type": "code",
   "execution_count": 24,
   "id": "fe5b748b",
   "metadata": {},
   "outputs": [
    {
     "data": {
      "text/html": [
       "<div>\n",
       "<style scoped>\n",
       "    .dataframe tbody tr th:only-of-type {\n",
       "        vertical-align: middle;\n",
       "    }\n",
       "\n",
       "    .dataframe tbody tr th {\n",
       "        vertical-align: top;\n",
       "    }\n",
       "\n",
       "    .dataframe thead th {\n",
       "        text-align: right;\n",
       "    }\n",
       "</style>\n",
       "<table border=\"1\" class=\"dataframe\">\n",
       "  <thead>\n",
       "    <tr style=\"text-align: right;\">\n",
       "      <th></th>\n",
       "      <th>Date</th>\n",
       "      <th>BTC_$</th>\n",
       "    </tr>\n",
       "  </thead>\n",
       "  <tbody>\n",
       "    <tr>\n",
       "      <th>0</th>\n",
       "      <td>2014-09-01</td>\n",
       "      <td>386.944000</td>\n",
       "    </tr>\n",
       "    <tr>\n",
       "      <th>1</th>\n",
       "      <td>2014-10-01</td>\n",
       "      <td>338.321014</td>\n",
       "    </tr>\n",
       "    <tr>\n",
       "      <th>2</th>\n",
       "      <td>2014-11-01</td>\n",
       "      <td>378.046997</td>\n",
       "    </tr>\n",
       "    <tr>\n",
       "      <th>3</th>\n",
       "      <td>2014-12-01</td>\n",
       "      <td>320.192993</td>\n",
       "    </tr>\n",
       "    <tr>\n",
       "      <th>4</th>\n",
       "      <td>2015-01-01</td>\n",
       "      <td>217.464005</td>\n",
       "    </tr>\n",
       "  </tbody>\n",
       "</table>\n",
       "</div>"
      ],
      "text/plain": [
       "        Date       BTC_$\n",
       "0 2014-09-01  386.944000\n",
       "1 2014-10-01  338.321014\n",
       "2 2014-11-01  378.046997\n",
       "3 2014-12-01  320.192993\n",
       "4 2015-01-01  217.464005"
      ]
     },
     "execution_count": 24,
     "metadata": {},
     "output_type": "execute_result"
    }
   ],
   "source": [
    "df_btc.head()"
   ]
  },
  {
   "cell_type": "code",
   "execution_count": 25,
   "id": "c33704ca",
   "metadata": {},
   "outputs": [
    {
     "name": "stdout",
     "output_type": "stream",
     "text": [
      "<class 'pandas.core.frame.DataFrame'>\n",
      "RangeIndex: 130 entries, 0 to 129\n",
      "Data columns (total 2 columns):\n",
      " #   Column  Non-Null Count  Dtype         \n",
      "---  ------  --------------  -----         \n",
      " 0   Date    130 non-null    datetime64[ns]\n",
      " 1   BTC_$   130 non-null    float64       \n",
      "dtypes: datetime64[ns](1), float64(1)\n",
      "memory usage: 2.2 KB\n"
     ]
    }
   ],
   "source": [
    "df_btc.info()"
   ]
  },
  {
   "cell_type": "code",
   "execution_count": 26,
   "id": "c5acb7be",
   "metadata": {},
   "outputs": [],
   "source": [
    "df_btc['BTC_$'] = round(df_btc['BTC_$'], 1)"
   ]
  },
  {
   "cell_type": "code",
   "execution_count": 27,
   "id": "610ad528",
   "metadata": {},
   "outputs": [
    {
     "data": {
      "text/html": [
       "<div>\n",
       "<style scoped>\n",
       "    .dataframe tbody tr th:only-of-type {\n",
       "        vertical-align: middle;\n",
       "    }\n",
       "\n",
       "    .dataframe tbody tr th {\n",
       "        vertical-align: top;\n",
       "    }\n",
       "\n",
       "    .dataframe thead th {\n",
       "        text-align: right;\n",
       "    }\n",
       "</style>\n",
       "<table border=\"1\" class=\"dataframe\">\n",
       "  <thead>\n",
       "    <tr style=\"text-align: right;\">\n",
       "      <th></th>\n",
       "      <th>Date</th>\n",
       "      <th>BTC_$</th>\n",
       "    </tr>\n",
       "  </thead>\n",
       "  <tbody>\n",
       "    <tr>\n",
       "      <th>43</th>\n",
       "      <td>2018-04-01</td>\n",
       "      <td>9240.5</td>\n",
       "    </tr>\n",
       "    <tr>\n",
       "      <th>20</th>\n",
       "      <td>2016-05-01</td>\n",
       "      <td>531.4</td>\n",
       "    </tr>\n",
       "    <tr>\n",
       "      <th>83</th>\n",
       "      <td>2021-08-01</td>\n",
       "      <td>47166.7</td>\n",
       "    </tr>\n",
       "    <tr>\n",
       "      <th>55</th>\n",
       "      <td>2019-04-01</td>\n",
       "      <td>5350.7</td>\n",
       "    </tr>\n",
       "    <tr>\n",
       "      <th>15</th>\n",
       "      <td>2015-12-01</td>\n",
       "      <td>430.6</td>\n",
       "    </tr>\n",
       "    <tr>\n",
       "      <th>124</th>\n",
       "      <td>2025-01-01</td>\n",
       "      <td>102405.0</td>\n",
       "    </tr>\n",
       "    <tr>\n",
       "      <th>101</th>\n",
       "      <td>2023-02-01</td>\n",
       "      <td>23147.4</td>\n",
       "    </tr>\n",
       "    <tr>\n",
       "      <th>8</th>\n",
       "      <td>2015-05-01</td>\n",
       "      <td>230.2</td>\n",
       "    </tr>\n",
       "    <tr>\n",
       "      <th>71</th>\n",
       "      <td>2020-08-01</td>\n",
       "      <td>11680.8</td>\n",
       "    </tr>\n",
       "    <tr>\n",
       "      <th>42</th>\n",
       "      <td>2018-03-01</td>\n",
       "      <td>6973.5</td>\n",
       "    </tr>\n",
       "  </tbody>\n",
       "</table>\n",
       "</div>"
      ],
      "text/plain": [
       "          Date     BTC_$\n",
       "43  2018-04-01    9240.5\n",
       "20  2016-05-01     531.4\n",
       "83  2021-08-01   47166.7\n",
       "55  2019-04-01    5350.7\n",
       "15  2015-12-01     430.6\n",
       "124 2025-01-01  102405.0\n",
       "101 2023-02-01   23147.4\n",
       "8   2015-05-01     230.2\n",
       "71  2020-08-01   11680.8\n",
       "42  2018-03-01    6973.5"
      ]
     },
     "execution_count": 27,
     "metadata": {},
     "output_type": "execute_result"
    }
   ],
   "source": [
    "df_btc.sample(10)"
   ]
  },
  {
   "cell_type": "code",
   "execution_count": 28,
   "id": "f9de739b",
   "metadata": {},
   "outputs": [],
   "source": [
    "# Save your file\n",
    "df_btc.to_csv(SAVE_FILE_PATH, index=False)\n"
   ]
  },
  {
   "cell_type": "code",
   "execution_count": null,
   "id": "b6fd0b73",
   "metadata": {},
   "outputs": [],
   "source": []
  }
 ],
 "metadata": {
  "kernelspec": {
   "display_name": "venv",
   "language": "python",
   "name": "python3"
  },
  "language_info": {
   "codemirror_mode": {
    "name": "ipython",
    "version": 3
   },
   "file_extension": ".py",
   "mimetype": "text/x-python",
   "name": "python",
   "nbconvert_exporter": "python",
   "pygments_lexer": "ipython3",
   "version": "3.10.5"
  }
 },
 "nbformat": 4,
 "nbformat_minor": 5
}
