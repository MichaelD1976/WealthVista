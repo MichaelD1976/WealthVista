{
 "cells": [
  {
   "cell_type": "markdown",
   "id": "bdd8fbe7",
   "metadata": {},
   "source": [
    "#### Access Gold Price\n",
    "Currently access the SPDR price which is then converted to approx gold price with a rough conversion.  \n",
    "Actual Gold Price ticker was not working:   \n",
    "gold = yf.download(\"XAUUSD=X\", start=\"2010-01-01\", interval=\"1mo\")\n",
    "\n",
    "Temporarily use y-finance. Look to find a better alternative extracting actual (accurate_ prices)"
   ]
  },
  {
   "cell_type": "code",
   "execution_count": 3,
   "id": "901e8de9",
   "metadata": {},
   "outputs": [],
   "source": [
    "import yfinance as yf\n",
    "import pandas as pd\n",
    "from pathlib import Path"
   ]
  },
  {
   "cell_type": "code",
   "execution_count": null,
   "id": "e79ca67c",
   "metadata": {},
   "outputs": [],
   "source": [
    "# Get the root of your project \n",
    "project_root = Path.cwd().parents[1]\n",
    "\n",
    "# Construct the full path to data/raw\n",
    "data_dir_to_save = project_root / 'data' / 'raw'\n",
    "data_dir_to_save.mkdir(parents=True, exist_ok=True)  # creates dirs if needed\n",
    "\n",
    "SAVE_FILE_PATH = data_dir_to_save / 'gold_prices_raw.csv'\n"
   ]
  },
  {
   "cell_type": "code",
   "execution_count": 5,
   "id": "bf1e163f",
   "metadata": {},
   "outputs": [
    {
     "name": "stderr",
     "output_type": "stream",
     "text": [
      "C:\\Users\\MikeD\\AppData\\Local\\Temp\\ipykernel_5888\\2870580505.py:2: FutureWarning: YF.download() has changed argument auto_adjust default to True\n",
      "  gold = yf.download(\"GLD\", start=\"2010-01-01\", interval=\"1mo\")\n",
      "[*********************100%***********************]  1 of 1 completed\n"
     ]
    }
   ],
   "source": [
    "# Define the ticker symbol for gold futures\n",
    "gold = yf.download(\"GLD\", start=\"2010-01-01\", interval=\"1mo\")"
   ]
  },
  {
   "cell_type": "code",
   "execution_count": 6,
   "id": "30cb7268",
   "metadata": {},
   "outputs": [
    {
     "data": {
      "text/html": [
       "<div>\n",
       "<style scoped>\n",
       "    .dataframe tbody tr th:only-of-type {\n",
       "        vertical-align: middle;\n",
       "    }\n",
       "\n",
       "    .dataframe tbody tr th {\n",
       "        vertical-align: top;\n",
       "    }\n",
       "\n",
       "    .dataframe thead tr th {\n",
       "        text-align: left;\n",
       "    }\n",
       "\n",
       "    .dataframe thead tr:last-of-type th {\n",
       "        text-align: right;\n",
       "    }\n",
       "</style>\n",
       "<table border=\"1\" class=\"dataframe\">\n",
       "  <thead>\n",
       "    <tr>\n",
       "      <th>Price</th>\n",
       "      <th>Close</th>\n",
       "      <th>High</th>\n",
       "      <th>Low</th>\n",
       "      <th>Open</th>\n",
       "      <th>Volume</th>\n",
       "    </tr>\n",
       "    <tr>\n",
       "      <th>Ticker</th>\n",
       "      <th>GLD</th>\n",
       "      <th>GLD</th>\n",
       "      <th>GLD</th>\n",
       "      <th>GLD</th>\n",
       "      <th>GLD</th>\n",
       "    </tr>\n",
       "    <tr>\n",
       "      <th>Date</th>\n",
       "      <th></th>\n",
       "      <th></th>\n",
       "      <th></th>\n",
       "      <th></th>\n",
       "      <th></th>\n",
       "    </tr>\n",
       "  </thead>\n",
       "  <tbody>\n",
       "    <tr>\n",
       "      <th>2010-01-01</th>\n",
       "      <td>105.959999</td>\n",
       "      <td>113.589996</td>\n",
       "      <td>105.180000</td>\n",
       "      <td>109.820000</td>\n",
       "      <td>347218200</td>\n",
       "    </tr>\n",
       "    <tr>\n",
       "      <th>2010-02-01</th>\n",
       "      <td>109.430000</td>\n",
       "      <td>110.389999</td>\n",
       "      <td>102.279999</td>\n",
       "      <td>106.639999</td>\n",
       "      <td>368010500</td>\n",
       "    </tr>\n",
       "    <tr>\n",
       "      <th>2010-03-01</th>\n",
       "      <td>108.949997</td>\n",
       "      <td>112.180000</td>\n",
       "      <td>106.239998</td>\n",
       "      <td>109.480003</td>\n",
       "      <td>326092400</td>\n",
       "    </tr>\n",
       "    <tr>\n",
       "      <th>2010-04-01</th>\n",
       "      <td>115.360001</td>\n",
       "      <td>115.699997</td>\n",
       "      <td>109.919998</td>\n",
       "      <td>109.970001</td>\n",
       "      <td>274413100</td>\n",
       "    </tr>\n",
       "    <tr>\n",
       "      <th>2010-05-01</th>\n",
       "      <td>118.879997</td>\n",
       "      <td>122.239998</td>\n",
       "      <td>113.309998</td>\n",
       "      <td>115.910004</td>\n",
       "      <td>504968200</td>\n",
       "    </tr>\n",
       "  </tbody>\n",
       "</table>\n",
       "</div>"
      ],
      "text/plain": [
       "Price            Close        High         Low        Open     Volume\n",
       "Ticker             GLD         GLD         GLD         GLD        GLD\n",
       "Date                                                                 \n",
       "2010-01-01  105.959999  113.589996  105.180000  109.820000  347218200\n",
       "2010-02-01  109.430000  110.389999  102.279999  106.639999  368010500\n",
       "2010-03-01  108.949997  112.180000  106.239998  109.480003  326092400\n",
       "2010-04-01  115.360001  115.699997  109.919998  109.970001  274413100\n",
       "2010-05-01  118.879997  122.239998  113.309998  115.910004  504968200"
      ]
     },
     "execution_count": 6,
     "metadata": {},
     "output_type": "execute_result"
    }
   ],
   "source": [
    "# Download monthly gold prices since 2010-01-01\n",
    "gold.head()"
   ]
  },
  {
   "cell_type": "code",
   "execution_count": 7,
   "id": "fffd5cdb",
   "metadata": {},
   "outputs": [
    {
     "data": {
      "text/plain": [
       "MultiIndex([( 'Close', 'GLD'),\n",
       "            (  'High', 'GLD'),\n",
       "            (   'Low', 'GLD'),\n",
       "            (  'Open', 'GLD'),\n",
       "            ('Volume', 'GLD')],\n",
       "           names=['Price', 'Ticker'])"
      ]
     },
     "execution_count": 7,
     "metadata": {},
     "output_type": "execute_result"
    }
   ],
   "source": [
    "gold.columns"
   ]
  },
  {
   "cell_type": "code",
   "execution_count": 8,
   "id": "8a4d4b43",
   "metadata": {},
   "outputs": [],
   "source": [
    "# If multi-index columns, extract Close price\n",
    "if isinstance(gold.columns, pd.MultiIndex):\n",
    "    gold = gold['Close']['GLD']\n",
    "else:\n",
    "    gold = gold['Close']"
   ]
  },
  {
   "cell_type": "code",
   "execution_count": 9,
   "id": "4a8a46e2",
   "metadata": {},
   "outputs": [],
   "source": [
    "# Convert to DataFrame, reset index\n",
    "gold_df = gold.to_frame(name='Gold_Price_USD').reset_index()\n"
   ]
  },
  {
   "cell_type": "code",
   "execution_count": 10,
   "id": "34f22194",
   "metadata": {},
   "outputs": [
    {
     "data": {
      "text/html": [
       "<div>\n",
       "<style scoped>\n",
       "    .dataframe tbody tr th:only-of-type {\n",
       "        vertical-align: middle;\n",
       "    }\n",
       "\n",
       "    .dataframe tbody tr th {\n",
       "        vertical-align: top;\n",
       "    }\n",
       "\n",
       "    .dataframe thead th {\n",
       "        text-align: right;\n",
       "    }\n",
       "</style>\n",
       "<table border=\"1\" class=\"dataframe\">\n",
       "  <thead>\n",
       "    <tr style=\"text-align: right;\">\n",
       "      <th></th>\n",
       "      <th>Date</th>\n",
       "      <th>Gold_Price_USD</th>\n",
       "    </tr>\n",
       "  </thead>\n",
       "  <tbody>\n",
       "    <tr>\n",
       "      <th>0</th>\n",
       "      <td>2010-01-01</td>\n",
       "      <td>105.959999</td>\n",
       "    </tr>\n",
       "    <tr>\n",
       "      <th>1</th>\n",
       "      <td>2010-02-01</td>\n",
       "      <td>109.430000</td>\n",
       "    </tr>\n",
       "    <tr>\n",
       "      <th>2</th>\n",
       "      <td>2010-03-01</td>\n",
       "      <td>108.949997</td>\n",
       "    </tr>\n",
       "    <tr>\n",
       "      <th>3</th>\n",
       "      <td>2010-04-01</td>\n",
       "      <td>115.360001</td>\n",
       "    </tr>\n",
       "    <tr>\n",
       "      <th>4</th>\n",
       "      <td>2010-05-01</td>\n",
       "      <td>118.879997</td>\n",
       "    </tr>\n",
       "  </tbody>\n",
       "</table>\n",
       "</div>"
      ],
      "text/plain": [
       "        Date  Gold_Price_USD\n",
       "0 2010-01-01      105.959999\n",
       "1 2010-02-01      109.430000\n",
       "2 2010-03-01      108.949997\n",
       "3 2010-04-01      115.360001\n",
       "4 2010-05-01      118.879997"
      ]
     },
     "execution_count": 10,
     "metadata": {},
     "output_type": "execute_result"
    }
   ],
   "source": [
    "gold_df.head()"
   ]
  },
  {
   "cell_type": "code",
   "execution_count": 11,
   "id": "610ad528",
   "metadata": {},
   "outputs": [],
   "source": [
    "# Round close price\n",
    "gold_df['Gold_Price_USD'] = gold_df['Gold_Price_USD'].round(1)"
   ]
  },
  {
   "cell_type": "code",
   "execution_count": 12,
   "id": "9fd70b77",
   "metadata": {},
   "outputs": [],
   "source": [
    "# gold spdr is ~ 1/10 the actual gld price plus fees\n",
    "gold_df['Gold_Price_$'] = round(gold_df['Gold_Price_USD'] * 10 * 1.06, 1)"
   ]
  },
  {
   "cell_type": "code",
   "execution_count": 13,
   "id": "7e7c62dc",
   "metadata": {},
   "outputs": [
    {
     "data": {
      "text/html": [
       "<div>\n",
       "<style scoped>\n",
       "    .dataframe tbody tr th:only-of-type {\n",
       "        vertical-align: middle;\n",
       "    }\n",
       "\n",
       "    .dataframe tbody tr th {\n",
       "        vertical-align: top;\n",
       "    }\n",
       "\n",
       "    .dataframe thead th {\n",
       "        text-align: right;\n",
       "    }\n",
       "</style>\n",
       "<table border=\"1\" class=\"dataframe\">\n",
       "  <thead>\n",
       "    <tr style=\"text-align: right;\">\n",
       "      <th></th>\n",
       "      <th>Date</th>\n",
       "      <th>Gold_Price_USD</th>\n",
       "      <th>Gold_Price_$</th>\n",
       "    </tr>\n",
       "  </thead>\n",
       "  <tbody>\n",
       "    <tr>\n",
       "      <th>112</th>\n",
       "      <td>2019-05-01</td>\n",
       "      <td>123.3</td>\n",
       "      <td>1307.0</td>\n",
       "    </tr>\n",
       "    <tr>\n",
       "      <th>11</th>\n",
       "      <td>2010-12-01</td>\n",
       "      <td>138.7</td>\n",
       "      <td>1470.2</td>\n",
       "    </tr>\n",
       "    <tr>\n",
       "      <th>66</th>\n",
       "      <td>2015-07-01</td>\n",
       "      <td>104.9</td>\n",
       "      <td>1111.9</td>\n",
       "    </tr>\n",
       "    <tr>\n",
       "      <th>144</th>\n",
       "      <td>2022-01-01</td>\n",
       "      <td>168.1</td>\n",
       "      <td>1781.9</td>\n",
       "    </tr>\n",
       "    <tr>\n",
       "      <th>92</th>\n",
       "      <td>2017-09-01</td>\n",
       "      <td>121.6</td>\n",
       "      <td>1289.0</td>\n",
       "    </tr>\n",
       "    <tr>\n",
       "      <th>145</th>\n",
       "      <td>2022-02-01</td>\n",
       "      <td>178.4</td>\n",
       "      <td>1891.0</td>\n",
       "    </tr>\n",
       "    <tr>\n",
       "      <th>116</th>\n",
       "      <td>2019-09-01</td>\n",
       "      <td>138.9</td>\n",
       "      <td>1472.3</td>\n",
       "    </tr>\n",
       "    <tr>\n",
       "      <th>125</th>\n",
       "      <td>2020-06-01</td>\n",
       "      <td>167.4</td>\n",
       "      <td>1774.4</td>\n",
       "    </tr>\n",
       "    <tr>\n",
       "      <th>6</th>\n",
       "      <td>2010-07-01</td>\n",
       "      <td>115.5</td>\n",
       "      <td>1224.3</td>\n",
       "    </tr>\n",
       "    <tr>\n",
       "      <th>49</th>\n",
       "      <td>2014-02-01</td>\n",
       "      <td>127.6</td>\n",
       "      <td>1352.6</td>\n",
       "    </tr>\n",
       "    <tr>\n",
       "      <th>166</th>\n",
       "      <td>2023-11-01</td>\n",
       "      <td>188.8</td>\n",
       "      <td>2001.3</td>\n",
       "    </tr>\n",
       "    <tr>\n",
       "      <th>45</th>\n",
       "      <td>2013-10-01</td>\n",
       "      <td>127.7</td>\n",
       "      <td>1353.6</td>\n",
       "    </tr>\n",
       "    <tr>\n",
       "      <th>185</th>\n",
       "      <td>2025-06-01</td>\n",
       "      <td>311.8</td>\n",
       "      <td>3305.1</td>\n",
       "    </tr>\n",
       "    <tr>\n",
       "      <th>118</th>\n",
       "      <td>2019-11-01</td>\n",
       "      <td>137.9</td>\n",
       "      <td>1461.7</td>\n",
       "    </tr>\n",
       "    <tr>\n",
       "      <th>16</th>\n",
       "      <td>2011-05-01</td>\n",
       "      <td>149.6</td>\n",
       "      <td>1585.8</td>\n",
       "    </tr>\n",
       "    <tr>\n",
       "      <th>138</th>\n",
       "      <td>2021-07-01</td>\n",
       "      <td>169.8</td>\n",
       "      <td>1799.9</td>\n",
       "    </tr>\n",
       "    <tr>\n",
       "      <th>83</th>\n",
       "      <td>2016-12-01</td>\n",
       "      <td>109.6</td>\n",
       "      <td>1161.8</td>\n",
       "    </tr>\n",
       "    <tr>\n",
       "      <th>172</th>\n",
       "      <td>2024-05-01</td>\n",
       "      <td>215.3</td>\n",
       "      <td>2282.2</td>\n",
       "    </tr>\n",
       "    <tr>\n",
       "      <th>141</th>\n",
       "      <td>2021-10-01</td>\n",
       "      <td>166.6</td>\n",
       "      <td>1766.0</td>\n",
       "    </tr>\n",
       "    <tr>\n",
       "      <th>110</th>\n",
       "      <td>2019-03-01</td>\n",
       "      <td>122.0</td>\n",
       "      <td>1293.2</td>\n",
       "    </tr>\n",
       "  </tbody>\n",
       "</table>\n",
       "</div>"
      ],
      "text/plain": [
       "          Date  Gold_Price_USD  Gold_Price_$\n",
       "112 2019-05-01           123.3        1307.0\n",
       "11  2010-12-01           138.7        1470.2\n",
       "66  2015-07-01           104.9        1111.9\n",
       "144 2022-01-01           168.1        1781.9\n",
       "92  2017-09-01           121.6        1289.0\n",
       "145 2022-02-01           178.4        1891.0\n",
       "116 2019-09-01           138.9        1472.3\n",
       "125 2020-06-01           167.4        1774.4\n",
       "6   2010-07-01           115.5        1224.3\n",
       "49  2014-02-01           127.6        1352.6\n",
       "166 2023-11-01           188.8        2001.3\n",
       "45  2013-10-01           127.7        1353.6\n",
       "185 2025-06-01           311.8        3305.1\n",
       "118 2019-11-01           137.9        1461.7\n",
       "16  2011-05-01           149.6        1585.8\n",
       "138 2021-07-01           169.8        1799.9\n",
       "83  2016-12-01           109.6        1161.8\n",
       "172 2024-05-01           215.3        2282.2\n",
       "141 2021-10-01           166.6        1766.0\n",
       "110 2019-03-01           122.0        1293.2"
      ]
     },
     "execution_count": 13,
     "metadata": {},
     "output_type": "execute_result"
    }
   ],
   "source": [
    "gold_df.sample(20)"
   ]
  },
  {
   "cell_type": "code",
   "execution_count": 14,
   "id": "8262ef44",
   "metadata": {},
   "outputs": [
    {
     "name": "stdout",
     "output_type": "stream",
     "text": [
      "<class 'pandas.core.frame.DataFrame'>\n",
      "RangeIndex: 186 entries, 0 to 185\n",
      "Data columns (total 3 columns):\n",
      " #   Column          Non-Null Count  Dtype         \n",
      "---  ------          --------------  -----         \n",
      " 0   Date            186 non-null    datetime64[ns]\n",
      " 1   Gold_Price_USD  186 non-null    float64       \n",
      " 2   Gold_Price_$    186 non-null    float64       \n",
      "dtypes: datetime64[ns](1), float64(2)\n",
      "memory usage: 4.5 KB\n"
     ]
    }
   ],
   "source": [
    "gold_df.info()"
   ]
  },
  {
   "cell_type": "code",
   "execution_count": 15,
   "id": "0a203cb3",
   "metadata": {},
   "outputs": [],
   "source": [
    "gold_df = gold_df[['Date', 'Gold_Price_$']]"
   ]
  },
  {
   "cell_type": "code",
   "execution_count": 16,
   "id": "f9de739b",
   "metadata": {},
   "outputs": [],
   "source": [
    "gold_df.to_csv(SAVE_FILE_PATH, index=False)"
   ]
  },
  {
   "cell_type": "code",
   "execution_count": null,
   "id": "b6fd0b73",
   "metadata": {},
   "outputs": [],
   "source": []
  }
 ],
 "metadata": {
  "kernelspec": {
   "display_name": "venv",
   "language": "python",
   "name": "python3"
  },
  "language_info": {
   "codemirror_mode": {
    "name": "ipython",
    "version": 3
   },
   "file_extension": ".py",
   "mimetype": "text/x-python",
   "name": "python",
   "nbconvert_exporter": "python",
   "pygments_lexer": "ipython3",
   "version": "3.10.5"
  }
 },
 "nbformat": 4,
 "nbformat_minor": 5
}
