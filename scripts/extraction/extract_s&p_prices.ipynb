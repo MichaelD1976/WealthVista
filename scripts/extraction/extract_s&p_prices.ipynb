{
 "cells": [
  {
   "cell_type": "markdown",
   "id": "bdd8fbe7",
   "metadata": {},
   "source": [
    "#### Access S&P Price\n"
   ]
  },
  {
   "cell_type": "code",
   "execution_count": 39,
   "id": "901e8de9",
   "metadata": {},
   "outputs": [],
   "source": [
    "import yfinance as yf\n",
    "import pandas as pd\n",
    "from pathlib import Path"
   ]
  },
  {
   "cell_type": "code",
   "execution_count": 40,
   "id": "bf1e163f",
   "metadata": {},
   "outputs": [],
   "source": [
    "# Define the date range\n",
    "start_date = \"2010-01-01\""
   ]
  },
  {
   "cell_type": "code",
   "execution_count": null,
   "id": "5aed83cb",
   "metadata": {},
   "outputs": [],
   "source": [
    "# Get the root of your project \n",
    "project_root = Path.cwd().parents[1]\n",
    "\n",
    "# Construct the full path to data/raw\n",
    "data_dir_to_save = project_root / 'data' / 'raw'\n",
    "data_dir_to_save.mkdir(parents=True, exist_ok=True)  # creates dirs if needed\n",
    "\n",
    "SAVE_FILE_PATH = data_dir_to_save / 'sp500_prices_raw.csv'\n"
   ]
  },
  {
   "cell_type": "code",
   "execution_count": 42,
   "id": "782cd3a5",
   "metadata": {},
   "outputs": [
    {
     "name": "stderr",
     "output_type": "stream",
     "text": [
      "C:\\Users\\MikeD\\AppData\\Local\\Temp\\ipykernel_432\\597093768.py:2: FutureWarning: YF.download() has changed argument auto_adjust default to True\n",
      "  df_sp = yf.download(\"^GSPC\", start=start_date, interval=\"1mo\", group_by=\"ticker\")\n",
      "[*********************100%***********************]  1 of 1 completed\n"
     ]
    }
   ],
   "source": [
    "# Download monthly S&P 500 prices\n",
    "df_sp = yf.download(\"^GSPC\", start=start_date, interval=\"1mo\", group_by=\"ticker\")"
   ]
  },
  {
   "cell_type": "code",
   "execution_count": 43,
   "id": "30cb7268",
   "metadata": {},
   "outputs": [
    {
     "data": {
      "text/html": [
       "<div>\n",
       "<style scoped>\n",
       "    .dataframe tbody tr th:only-of-type {\n",
       "        vertical-align: middle;\n",
       "    }\n",
       "\n",
       "    .dataframe tbody tr th {\n",
       "        vertical-align: top;\n",
       "    }\n",
       "\n",
       "    .dataframe thead tr th {\n",
       "        text-align: left;\n",
       "    }\n",
       "\n",
       "    .dataframe thead tr:last-of-type th {\n",
       "        text-align: right;\n",
       "    }\n",
       "</style>\n",
       "<table border=\"1\" class=\"dataframe\">\n",
       "  <thead>\n",
       "    <tr>\n",
       "      <th>Ticker</th>\n",
       "      <th colspan=\"5\" halign=\"left\">^GSPC</th>\n",
       "    </tr>\n",
       "    <tr>\n",
       "      <th>Price</th>\n",
       "      <th>Open</th>\n",
       "      <th>High</th>\n",
       "      <th>Low</th>\n",
       "      <th>Close</th>\n",
       "      <th>Volume</th>\n",
       "    </tr>\n",
       "    <tr>\n",
       "      <th>Date</th>\n",
       "      <th></th>\n",
       "      <th></th>\n",
       "      <th></th>\n",
       "      <th></th>\n",
       "      <th></th>\n",
       "    </tr>\n",
       "  </thead>\n",
       "  <tbody>\n",
       "    <tr>\n",
       "      <th>2010-01-01</th>\n",
       "      <td>1116.560059</td>\n",
       "      <td>1150.449951</td>\n",
       "      <td>1071.589966</td>\n",
       "      <td>1073.869995</td>\n",
       "      <td>90947580000</td>\n",
       "    </tr>\n",
       "    <tr>\n",
       "      <th>2010-02-01</th>\n",
       "      <td>1073.890015</td>\n",
       "      <td>1112.420044</td>\n",
       "      <td>1044.500000</td>\n",
       "      <td>1104.489990</td>\n",
       "      <td>84561340000</td>\n",
       "    </tr>\n",
       "    <tr>\n",
       "      <th>2010-03-01</th>\n",
       "      <td>1105.359985</td>\n",
       "      <td>1180.689941</td>\n",
       "      <td>1105.359985</td>\n",
       "      <td>1169.430054</td>\n",
       "      <td>103683550000</td>\n",
       "    </tr>\n",
       "    <tr>\n",
       "      <th>2010-04-01</th>\n",
       "      <td>1171.229980</td>\n",
       "      <td>1219.800049</td>\n",
       "      <td>1170.689941</td>\n",
       "      <td>1186.689941</td>\n",
       "      <td>116741910000</td>\n",
       "    </tr>\n",
       "    <tr>\n",
       "      <th>2010-05-01</th>\n",
       "      <td>1188.579956</td>\n",
       "      <td>1205.130005</td>\n",
       "      <td>1040.780029</td>\n",
       "      <td>1089.410034</td>\n",
       "      <td>127662780000</td>\n",
       "    </tr>\n",
       "  </tbody>\n",
       "</table>\n",
       "</div>"
      ],
      "text/plain": [
       "Ticker            ^GSPC                                                     \n",
       "Price              Open         High          Low        Close        Volume\n",
       "Date                                                                        \n",
       "2010-01-01  1116.560059  1150.449951  1071.589966  1073.869995   90947580000\n",
       "2010-02-01  1073.890015  1112.420044  1044.500000  1104.489990   84561340000\n",
       "2010-03-01  1105.359985  1180.689941  1105.359985  1169.430054  103683550000\n",
       "2010-04-01  1171.229980  1219.800049  1170.689941  1186.689941  116741910000\n",
       "2010-05-01  1188.579956  1205.130005  1040.780029  1089.410034  127662780000"
      ]
     },
     "execution_count": 43,
     "metadata": {},
     "output_type": "execute_result"
    }
   ],
   "source": [
    "# Download monthly gold prices since 2010-01-01\n",
    "df_sp.head()"
   ]
  },
  {
   "cell_type": "code",
   "execution_count": 44,
   "id": "d146acde",
   "metadata": {},
   "outputs": [
    {
     "data": {
      "text/plain": [
       "MultiIndex([('^GSPC',   'Open'),\n",
       "            ('^GSPC',   'High'),\n",
       "            ('^GSPC',    'Low'),\n",
       "            ('^GSPC',  'Close'),\n",
       "            ('^GSPC', 'Volume')],\n",
       "           names=['Ticker', 'Price'])"
      ]
     },
     "execution_count": 44,
     "metadata": {},
     "output_type": "execute_result"
    }
   ],
   "source": [
    "df_sp.columns"
   ]
  },
  {
   "cell_type": "code",
   "execution_count": 45,
   "id": "fffd5cdb",
   "metadata": {},
   "outputs": [],
   "source": [
    "df_sp.columns = df_sp.columns.droplevel(0)  # drops 'Ticker' level"
   ]
  },
  {
   "cell_type": "code",
   "execution_count": 46,
   "id": "8a4d4b43",
   "metadata": {},
   "outputs": [
    {
     "data": {
      "text/html": [
       "<div>\n",
       "<style scoped>\n",
       "    .dataframe tbody tr th:only-of-type {\n",
       "        vertical-align: middle;\n",
       "    }\n",
       "\n",
       "    .dataframe tbody tr th {\n",
       "        vertical-align: top;\n",
       "    }\n",
       "\n",
       "    .dataframe thead th {\n",
       "        text-align: right;\n",
       "    }\n",
       "</style>\n",
       "<table border=\"1\" class=\"dataframe\">\n",
       "  <thead>\n",
       "    <tr style=\"text-align: right;\">\n",
       "      <th>Price</th>\n",
       "      <th>Open</th>\n",
       "      <th>High</th>\n",
       "      <th>Low</th>\n",
       "      <th>Close</th>\n",
       "      <th>Volume</th>\n",
       "    </tr>\n",
       "    <tr>\n",
       "      <th>Date</th>\n",
       "      <th></th>\n",
       "      <th></th>\n",
       "      <th></th>\n",
       "      <th></th>\n",
       "      <th></th>\n",
       "    </tr>\n",
       "  </thead>\n",
       "  <tbody>\n",
       "    <tr>\n",
       "      <th>2010-01-01</th>\n",
       "      <td>1116.560059</td>\n",
       "      <td>1150.449951</td>\n",
       "      <td>1071.589966</td>\n",
       "      <td>1073.869995</td>\n",
       "      <td>90947580000</td>\n",
       "    </tr>\n",
       "    <tr>\n",
       "      <th>2010-02-01</th>\n",
       "      <td>1073.890015</td>\n",
       "      <td>1112.420044</td>\n",
       "      <td>1044.500000</td>\n",
       "      <td>1104.489990</td>\n",
       "      <td>84561340000</td>\n",
       "    </tr>\n",
       "    <tr>\n",
       "      <th>2010-03-01</th>\n",
       "      <td>1105.359985</td>\n",
       "      <td>1180.689941</td>\n",
       "      <td>1105.359985</td>\n",
       "      <td>1169.430054</td>\n",
       "      <td>103683550000</td>\n",
       "    </tr>\n",
       "    <tr>\n",
       "      <th>2010-04-01</th>\n",
       "      <td>1171.229980</td>\n",
       "      <td>1219.800049</td>\n",
       "      <td>1170.689941</td>\n",
       "      <td>1186.689941</td>\n",
       "      <td>116741910000</td>\n",
       "    </tr>\n",
       "    <tr>\n",
       "      <th>2010-05-01</th>\n",
       "      <td>1188.579956</td>\n",
       "      <td>1205.130005</td>\n",
       "      <td>1040.780029</td>\n",
       "      <td>1089.410034</td>\n",
       "      <td>127662780000</td>\n",
       "    </tr>\n",
       "  </tbody>\n",
       "</table>\n",
       "</div>"
      ],
      "text/plain": [
       "Price              Open         High          Low        Close        Volume\n",
       "Date                                                                        \n",
       "2010-01-01  1116.560059  1150.449951  1071.589966  1073.869995   90947580000\n",
       "2010-02-01  1073.890015  1112.420044  1044.500000  1104.489990   84561340000\n",
       "2010-03-01  1105.359985  1180.689941  1105.359985  1169.430054  103683550000\n",
       "2010-04-01  1171.229980  1219.800049  1170.689941  1186.689941  116741910000\n",
       "2010-05-01  1188.579956  1205.130005  1040.780029  1089.410034  127662780000"
      ]
     },
     "execution_count": 46,
     "metadata": {},
     "output_type": "execute_result"
    }
   ],
   "source": [
    "df_sp.head()"
   ]
  },
  {
   "cell_type": "code",
   "execution_count": 47,
   "id": "c4fec342",
   "metadata": {},
   "outputs": [],
   "source": [
    "# If multi-index columns, extract Close price\n",
    "if isinstance(df_sp.columns, pd.MultiIndex):\n",
    "    df_sp = df_sp['Close']['GLD']\n",
    "else:\n",
    "    df_sp = df_sp['Close']"
   ]
  },
  {
   "cell_type": "code",
   "execution_count": 48,
   "id": "4a8a46e2",
   "metadata": {},
   "outputs": [
    {
     "name": "stdout",
     "output_type": "stream",
     "text": [
      "<class 'pandas.core.series.Series'>\n",
      "DatetimeIndex: 186 entries, 2010-01-01 to 2025-06-01\n",
      "Series name: Close\n",
      "Non-Null Count  Dtype  \n",
      "--------------  -----  \n",
      "186 non-null    float64\n",
      "dtypes: float64(1)\n",
      "memory usage: 2.9 KB\n"
     ]
    }
   ],
   "source": [
    "df_sp.info()\n"
   ]
  },
  {
   "cell_type": "code",
   "execution_count": 49,
   "id": "34f22194",
   "metadata": {},
   "outputs": [],
   "source": [
    "# Convert to DataFrame, reset index\n",
    "# Convert to DataFrame, reset index\n",
    "df_sp = df_sp.to_frame(name='S&P500_$').reset_index()"
   ]
  },
  {
   "cell_type": "code",
   "execution_count": 50,
   "id": "fe5b748b",
   "metadata": {},
   "outputs": [
    {
     "data": {
      "text/html": [
       "<div>\n",
       "<style scoped>\n",
       "    .dataframe tbody tr th:only-of-type {\n",
       "        vertical-align: middle;\n",
       "    }\n",
       "\n",
       "    .dataframe tbody tr th {\n",
       "        vertical-align: top;\n",
       "    }\n",
       "\n",
       "    .dataframe thead th {\n",
       "        text-align: right;\n",
       "    }\n",
       "</style>\n",
       "<table border=\"1\" class=\"dataframe\">\n",
       "  <thead>\n",
       "    <tr style=\"text-align: right;\">\n",
       "      <th></th>\n",
       "      <th>Date</th>\n",
       "      <th>S&amp;P500_$</th>\n",
       "    </tr>\n",
       "  </thead>\n",
       "  <tbody>\n",
       "    <tr>\n",
       "      <th>0</th>\n",
       "      <td>2010-01-01</td>\n",
       "      <td>1073.869995</td>\n",
       "    </tr>\n",
       "    <tr>\n",
       "      <th>1</th>\n",
       "      <td>2010-02-01</td>\n",
       "      <td>1104.489990</td>\n",
       "    </tr>\n",
       "    <tr>\n",
       "      <th>2</th>\n",
       "      <td>2010-03-01</td>\n",
       "      <td>1169.430054</td>\n",
       "    </tr>\n",
       "    <tr>\n",
       "      <th>3</th>\n",
       "      <td>2010-04-01</td>\n",
       "      <td>1186.689941</td>\n",
       "    </tr>\n",
       "    <tr>\n",
       "      <th>4</th>\n",
       "      <td>2010-05-01</td>\n",
       "      <td>1089.410034</td>\n",
       "    </tr>\n",
       "  </tbody>\n",
       "</table>\n",
       "</div>"
      ],
      "text/plain": [
       "        Date     S&P500_$\n",
       "0 2010-01-01  1073.869995\n",
       "1 2010-02-01  1104.489990\n",
       "2 2010-03-01  1169.430054\n",
       "3 2010-04-01  1186.689941\n",
       "4 2010-05-01  1089.410034"
      ]
     },
     "execution_count": 50,
     "metadata": {},
     "output_type": "execute_result"
    }
   ],
   "source": [
    "df_sp.head()"
   ]
  },
  {
   "cell_type": "code",
   "execution_count": 51,
   "id": "c33704ca",
   "metadata": {},
   "outputs": [
    {
     "name": "stdout",
     "output_type": "stream",
     "text": [
      "<class 'pandas.core.frame.DataFrame'>\n",
      "RangeIndex: 186 entries, 0 to 185\n",
      "Data columns (total 2 columns):\n",
      " #   Column    Non-Null Count  Dtype         \n",
      "---  ------    --------------  -----         \n",
      " 0   Date      186 non-null    datetime64[ns]\n",
      " 1   S&P500_$  186 non-null    float64       \n",
      "dtypes: datetime64[ns](1), float64(1)\n",
      "memory usage: 3.0 KB\n"
     ]
    }
   ],
   "source": [
    "df_sp.info()"
   ]
  },
  {
   "cell_type": "code",
   "execution_count": 52,
   "id": "c5acb7be",
   "metadata": {},
   "outputs": [],
   "source": [
    "df_sp['S&P500_$'] = round(df_sp['S&P500_$'], 1)"
   ]
  },
  {
   "cell_type": "code",
   "execution_count": 53,
   "id": "610ad528",
   "metadata": {},
   "outputs": [
    {
     "data": {
      "text/html": [
       "<div>\n",
       "<style scoped>\n",
       "    .dataframe tbody tr th:only-of-type {\n",
       "        vertical-align: middle;\n",
       "    }\n",
       "\n",
       "    .dataframe tbody tr th {\n",
       "        vertical-align: top;\n",
       "    }\n",
       "\n",
       "    .dataframe thead th {\n",
       "        text-align: right;\n",
       "    }\n",
       "</style>\n",
       "<table border=\"1\" class=\"dataframe\">\n",
       "  <thead>\n",
       "    <tr style=\"text-align: right;\">\n",
       "      <th></th>\n",
       "      <th>Date</th>\n",
       "      <th>S&amp;P500_$</th>\n",
       "    </tr>\n",
       "  </thead>\n",
       "  <tbody>\n",
       "    <tr>\n",
       "      <th>136</th>\n",
       "      <td>2021-05-01</td>\n",
       "      <td>4204.1</td>\n",
       "    </tr>\n",
       "    <tr>\n",
       "      <th>10</th>\n",
       "      <td>2010-11-01</td>\n",
       "      <td>1180.6</td>\n",
       "    </tr>\n",
       "    <tr>\n",
       "      <th>180</th>\n",
       "      <td>2025-01-01</td>\n",
       "      <td>6040.5</td>\n",
       "    </tr>\n",
       "    <tr>\n",
       "      <th>158</th>\n",
       "      <td>2023-03-01</td>\n",
       "      <td>4109.3</td>\n",
       "    </tr>\n",
       "    <tr>\n",
       "      <th>131</th>\n",
       "      <td>2020-12-01</td>\n",
       "      <td>3756.1</td>\n",
       "    </tr>\n",
       "    <tr>\n",
       "      <th>167</th>\n",
       "      <td>2023-12-01</td>\n",
       "      <td>4769.8</td>\n",
       "    </tr>\n",
       "    <tr>\n",
       "      <th>47</th>\n",
       "      <td>2013-12-01</td>\n",
       "      <td>1848.4</td>\n",
       "    </tr>\n",
       "    <tr>\n",
       "      <th>117</th>\n",
       "      <td>2019-10-01</td>\n",
       "      <td>3037.6</td>\n",
       "    </tr>\n",
       "    <tr>\n",
       "      <th>163</th>\n",
       "      <td>2023-08-01</td>\n",
       "      <td>4507.7</td>\n",
       "    </tr>\n",
       "    <tr>\n",
       "      <th>111</th>\n",
       "      <td>2019-04-01</td>\n",
       "      <td>2945.8</td>\n",
       "    </tr>\n",
       "  </tbody>\n",
       "</table>\n",
       "</div>"
      ],
      "text/plain": [
       "          Date  S&P500_$\n",
       "136 2021-05-01    4204.1\n",
       "10  2010-11-01    1180.6\n",
       "180 2025-01-01    6040.5\n",
       "158 2023-03-01    4109.3\n",
       "131 2020-12-01    3756.1\n",
       "167 2023-12-01    4769.8\n",
       "47  2013-12-01    1848.4\n",
       "117 2019-10-01    3037.6\n",
       "163 2023-08-01    4507.7\n",
       "111 2019-04-01    2945.8"
      ]
     },
     "execution_count": 53,
     "metadata": {},
     "output_type": "execute_result"
    }
   ],
   "source": [
    "df_sp.sample(10)"
   ]
  },
  {
   "cell_type": "code",
   "execution_count": 54,
   "id": "f9de739b",
   "metadata": {},
   "outputs": [],
   "source": [
    "# Save your file\n",
    "df_sp.to_csv(SAVE_FILE_PATH, index=False)\n"
   ]
  },
  {
   "cell_type": "code",
   "execution_count": null,
   "id": "b6fd0b73",
   "metadata": {},
   "outputs": [],
   "source": []
  }
 ],
 "metadata": {
  "kernelspec": {
   "display_name": "venv",
   "language": "python",
   "name": "python3"
  },
  "language_info": {
   "codemirror_mode": {
    "name": "ipython",
    "version": 3
   },
   "file_extension": ".py",
   "mimetype": "text/x-python",
   "name": "python",
   "nbconvert_exporter": "python",
   "pygments_lexer": "ipython3",
   "version": "3.10.5"
  }
 },
 "nbformat": 4,
 "nbformat_minor": 5
}
